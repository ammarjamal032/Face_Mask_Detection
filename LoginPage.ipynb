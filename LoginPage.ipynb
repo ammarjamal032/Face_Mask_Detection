{
 "cells": [
  {
   "cell_type": "code",
   "execution_count": 1,
   "metadata": {},
   "outputs": [
    {
     "name": "stdout",
     "output_type": "stream",
     "text": [
      "123\n",
      "There is a problem with Oracle DPI-1047: Cannot locate a 64-bit Oracle Client library: \"C:\\oraclexe\\app\\oracle\\product\\10.2.0\\server\\bin\\oci.dll is not the correct architecture\". See https://cx-oracle.readthedocs.io/en/latest/user_guide/installation.html for help\n"
     ]
    },
    {
     "data": {
      "text/plain": [
       "0"
      ]
     },
     "execution_count": 1,
     "metadata": {},
     "output_type": "execute_result"
    }
   ],
   "source": [
    "import sys\n",
    "from PyQt5 import QtWidgets\n",
    "from PyQt5.QtWidgets import QDialog, QApplication\n",
    "from PyQt5.uic import loadUi\n",
    "import cx_Oracle\n",
    "\n",
    "\n",
    "try: \n",
    "    print('123')\n",
    "    \n",
    "    con = cx_Oracle.connect('ammar/ammar@localhost') \n",
    "    print(con)\n",
    "    print('123')\n",
    "    # Now execute the sqlquery \n",
    "    cursor = con.cursor() \n",
    "    cursor.execute(\"\"\"\n",
    "        SELECT user1, pass2\n",
    "        FROM auth1\"\"\")\n",
    "\n",
    "    for user1, pass2 in cursor:\n",
    "        print(\"Values:\", user1, pass2)\n",
    "\n",
    "except cx_Oracle.DatabaseError as e: \n",
    "    print(\"There is a problem with Oracle\", e)               \n",
    "\n",
    "\n",
    "class Login(QDialog):\n",
    "    def __init__(self):\n",
    "        super(Login,self).__init__()\n",
    "        loadUi(\"LoginUI.ui\",self)\n",
    "        self.submitbutton.clicked.connect(self.loginfunction)\n",
    "        self.pass1.setEchoMode(QtWidgets.QLineEdit.Password)\n",
    "        \n",
    "        \n",
    "    def loginfunction(self):\n",
    "        user =self.user.text()\n",
    "        pass1 =self.pass1.text()\n",
    "        print(\"Succes\")\n",
    "        \n",
    "'''\n",
    "class dashboard(QDialog):\n",
    "    def __init__(self):\n",
    "        super(Login,self).__init__()\n",
    "        loadUi(\"Dashboard.ui\",self)\n",
    "        #self.submitbutton.clicked.connect(self.gotodashboard)\n",
    "        \n",
    "    def gotodashboard(self):\n",
    "        dash=dashboard()\n",
    "        \n",
    "'''\n",
    "app=QApplication(sys.argv)\n",
    "mainwindow=Login()\n",
    "widget = QtWidgets.QStackedWidget()\n",
    "widget.addWidget(mainwindow)\n",
    "#widget.setFixedWidth(600)\n",
    "#widget.setFixedHieght(500)\n",
    "widget.show()\n",
    "app.exec_()\n",
    "\n"
   ]
  },
  {
   "cell_type": "code",
   "execution_count": 1,
   "metadata": {},
   "outputs": [
    {
     "name": "stdout",
     "output_type": "stream",
     "text": [
      "8.1.0\n"
     ]
    }
   ],
   "source": [
    "import cx_Oracle\n",
    "print(cx_Oracle.version)\n"
   ]
  },
  {
   "cell_type": "code",
   "execution_count": null,
   "metadata": {},
   "outputs": [],
   "source": []
  }
 ],
 "metadata": {
  "kernelspec": {
   "display_name": "Python 3",
   "language": "python",
   "name": "python3"
  },
  "language_info": {
   "codemirror_mode": {
    "name": "ipython",
    "version": 3
   },
   "file_extension": ".py",
   "mimetype": "text/x-python",
   "name": "python",
   "nbconvert_exporter": "python",
   "pygments_lexer": "ipython3",
   "version": "3.8.5"
  }
 },
 "nbformat": 4,
 "nbformat_minor": 4
}
