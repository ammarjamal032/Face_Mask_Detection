{
 "cells": [
  {
   "cell_type": "code",
   "execution_count": 1,
   "metadata": {},
   "outputs": [
    {
     "name": "stdout",
     "output_type": "stream",
     "text": [
      "importing Jupyter notebook from data_colle.ipynb\n",
      "importing Jupyter notebook from Test.ipynb\n",
      "pygame 2.0.1 (SDL 2.0.14, Python 3.8.5)\n",
      "Hello from the pygame community. https://www.pygame.org/contribute.html\n"
     ]
    }
   ],
   "source": [
    "import PIL\n",
    "from PIL import Image,ImageTk\n",
    "import pytesseract\n",
    "import import_ipynb\n",
    "import cv2, time\n",
    "import os\n",
    "from tkinter import *\n",
    "import tkinter as tk\n",
    "from data_colle import with_mask ,without_mask\n",
    "from Test import Testing1\n",
    "from PIL import ImageTk, Image\n",
    "\n",
    "window = tk.Tk()\n",
    "\n",
    "window.wm_title(\"Mask Detection\")\n",
    "window.geometry('600x600')\n",
    "##################\n",
    "# Create a frame\n",
    "#app = Frame(root, bg=\"white\")\n",
    "#app.grid()\n",
    "# Create a label in the frame\n",
    "#lmain = Label(app)\n",
    "#lmain.grid()\n",
    "\n",
    "# Capture from camera\n",
    "#cap = cv2.VideoCapture(0)\n",
    "\n",
    "# function for video streaming\n",
    "#def video_stream():\n",
    "   # _, frame = cap.read()\n",
    "    #cv2image = cv2.cvtColor(frame, cv2.COLOR_BGR2RGBA)\n",
    "    #img = Image.fromarray(cv2image)\n",
    "    #imgtk = ImageTk.PhotoImage(image=img)\n",
    "    #lmain.imgtk = imgtk\n",
    "    #lmain.configure(image=imgtk)\n",
    "    #lmain.after(1, video_stream) \n",
    "\n",
    "#video_stream()\n",
    "#################\n",
    "\n",
    "label = Label(window, text =\"...Data collection...\",width=25, height=2, font='24',bg=\"#ADD8E6\")\n",
    "label.grid(row = 2, column = 0)\n",
    "\n",
    "label = Label(window, text =\"\",width=25, height=2, font='24',bg=\"#ADD8E6\")\n",
    "label.grid(row = 2, column = 1)\n",
    "##########################################################################################\n",
    "\n",
    "b1 = Button(window, text=\"with Mask\", width=25, height=5, font='50', command=with_mask)\n",
    "b1.grid(row = 3, column = 0)\n",
    "\n",
    "b2 = Button(window, text=\"Without Mask\", width=25, height=5, font='50', command=without_mask)\n",
    "b2.grid(row = 3, column = 1)\n",
    "\n",
    "label = Label(window, text =\"Testing\",width=25, height=2, font='24',bg=\"#ADD8E6\")\n",
    "label.grid(row = 4, column = 0)\n",
    "label = Label(window, text =\"\",width=25, height=2, font='24',bg=\"#ADD8E6\")\n",
    "label.grid(row = 4, column = 1)\n",
    "\n",
    "b3 = Button(window, text=\"Test\", width=25, height=5, font='50', command=Testing1)\n",
    "b3.grid(row = 5, column = 0)\n",
    "\n",
    "b3 = Button(window, text = \"Close\", width = 25, height = 5, font = \"50\",  command = window.destroy)\n",
    "b3.grid(row = 5, column = 1)\n",
    "######################################################################\n",
    "\n",
    "window.mainloop()\n",
    "\n",
    "\n",
    "\n",
    "\n"
   ]
  },
  {
   "cell_type": "code",
   "execution_count": null,
   "metadata": {},
   "outputs": [],
   "source": []
  },
  {
   "cell_type": "code",
   "execution_count": null,
   "metadata": {},
   "outputs": [],
   "source": []
  },
  {
   "cell_type": "code",
   "execution_count": null,
   "metadata": {},
   "outputs": [],
   "source": []
  }
 ],
 "metadata": {
  "kernelspec": {
   "display_name": "Python 3",
   "language": "python",
   "name": "python3"
  },
  "language_info": {
   "codemirror_mode": {
    "name": "ipython",
    "version": 3
   },
   "file_extension": ".py",
   "mimetype": "text/x-python",
   "name": "python",
   "nbconvert_exporter": "python",
   "pygments_lexer": "ipython3",
   "version": "3.8.5"
  }
 },
 "nbformat": 4,
 "nbformat_minor": 4
}
